{
 "cells": [
  {
   "cell_type": "code",
   "execution_count": 1,
   "id": "2b3aa6e5",
   "metadata": {},
   "outputs": [
    {
     "name": "stdout",
     "output_type": "stream",
     "text": [
      "27966\n"
     ]
    }
   ],
   "source": [
    "#importing libraries and neccesary\n",
    "\n",
    "import pandas as pd\n",
    "import numpy as np\n",
    "df=pd.read_csv(r\"C:\\Users\\COMPAQ\\Desktop\\total projects\\data cleaning\\sample.csv\")\n",
    "row_count = len(df)\n",
    "print(row_count)\n"
   ]
  },
  {
   "cell_type": "code",
   "execution_count": 2,
   "id": "ddc57200",
   "metadata": {},
   "outputs": [],
   "source": [
    "#renaming unneccesary columns\n",
    "\n",
    "df.rename(columns={'How old are you?': 'AGE', 'What industry do you work in?': 'Industry'},inplace=True)\n",
    "df.rename(columns={'If your job title needs additional context, please clarify here:':'job Description'},inplace=True)\n",
    "df.rename(columns={\"What is your annual salary? (You'll indicate the currency in a later question. If you are part-time or hourly, please enter an annualized equivalent -- what you would earn if you worked the job 40 hours a week, 52 weeks a year.)\":\"Annual_Salary\"},inplace=True)\n",
    "df.rename(columns={'How much additional monetary compensation do you get, if any (for example, bonuses or overtime in an average year)? Please only include monetary compensation here, not the value of benefits.':'Monetary_Salary'},inplace=True)\n",
    "df.rename(columns={'Please indicate the currency':'Currency','What country do you work in?':'Country',\"If you're in the U.S., what state do you work in?\":'State',\"What city do you work in?\":'city','How many years of professional work experience do you have overall?':'Professional Experience'},inplace=True)\n",
    "df.rename(columns={'How many years of professional work experience do you have in your field?':'FieldExperience','What is your highest level of education completed?':'Education','What is your gender?':\"Gender\",\"What is your race? (Choose all that apply.)\":\"Race\"},inplace=True)\n",
    "df.rename(columns={'If \"Other,\" please indicate the currency here: ':'Other_Currency'},inplace=True)\n",
    "\n",
    "column_name = 'Annual_Salary' \n",
    "df[column_name].fillna(0, inplace=True)\n"
   ]
  },
  {
   "cell_type": "code",
   "execution_count": 3,
   "id": "d576ab5a",
   "metadata": {},
   "outputs": [],
   "source": [
    "#dropping columns\n",
    "\n",
    "df.drop(['Timestamp'], axis=1, inplace=True)\n",
    "df.drop(['If your income needs additional context, please provide it here:'],axis=1,inplace=True)\n"
   ]
  },
  {
   "cell_type": "code",
   "execution_count": 4,
   "id": "43267745",
   "metadata": {},
   "outputs": [
    {
     "name": "stdout",
     "output_type": "stream",
     "text": [
      "<class 'pandas.core.frame.DataFrame'>\n",
      "RangeIndex: 27966 entries, 0 to 27965\n",
      "Data columns (total 16 columns):\n",
      " #   Column                   Non-Null Count  Dtype  \n",
      "---  ------                   --------------  -----  \n",
      " 0   AGE                      27966 non-null  object \n",
      " 1   Industry                 27894 non-null  object \n",
      " 2   Job title                27966 non-null  object \n",
      " 3   job Description          7236 non-null   object \n",
      " 4   Annual_Salary            27966 non-null  object \n",
      " 5   Monetary_Salary          20703 non-null  float64\n",
      " 6   Currency                 27966 non-null  object \n",
      " 7   Other_Currency           197 non-null    object \n",
      " 8   Country                  27966 non-null  object \n",
      " 9   State                    22977 non-null  object \n",
      " 10  city                     27891 non-null  object \n",
      " 11  Professional Experience  27966 non-null  object \n",
      " 12  FieldExperience          27966 non-null  object \n",
      " 13  Education                27751 non-null  object \n",
      " 14  Gender                   27799 non-null  object \n",
      " 15  Race                     27797 non-null  object \n",
      "dtypes: float64(1), object(15)\n",
      "memory usage: 3.4+ MB\n",
      "27817\n"
     ]
    }
   ],
   "source": [
    "#deleting duplicated\n",
    "\n",
    "df.info()\n",
    "df.drop_duplicates(inplace=True)\n",
    "\n",
    "\n",
    "row_count = len(df)\n",
    "print(row_count)"
   ]
  },
  {
   "cell_type": "code",
   "execution_count": 5,
   "id": "131ae563",
   "metadata": {},
   "outputs": [],
   "source": [
    "#changing datatypes\n",
    "\n",
    "df.dtypes\n",
    "column_name = 'Annual_Salary' \n",
    "df[column_name] = df[column_name].replace([np.inf, -np.inf, np.nan],1)\n",
    "column_name = 'Monetary_Salary' \n",
    "df[column_name] = df[column_name].replace([np.inf, -np.inf, np.nan],1)\n",
    "column_name = ['Professional Experience','FieldExperience']\n",
    "df[column_name] = df[column_name].replace([np.inf, -np.inf, np.nan],1)"
   ]
  },
  {
   "cell_type": "code",
   "execution_count": 6,
   "id": "262dd888",
   "metadata": {},
   "outputs": [],
   "source": [
    "df['Annual_Salary'] = df['Annual_Salary'].replace(',', '', regex=True).astype(int)\n",
    "df['Monetary_Salary']=df['Monetary_Salary'].astype(int)"
   ]
  },
  {
   "cell_type": "code",
   "execution_count": 7,
   "id": "7ddf69be",
   "metadata": {},
   "outputs": [
    {
     "name": "stdout",
     "output_type": "stream",
     "text": [
      "         AGE                              Industry  \\\n",
      "0      25-34          Education (Higher Education)   \n",
      "1      25-34                     Computing or Tech   \n",
      "2      25-34         Accounting, Banking & Finance   \n",
      "3      25-34                            Nonprofits   \n",
      "4      25-34         Accounting, Banking & Finance   \n",
      "...      ...                                   ...   \n",
      "27961  45-54                     Computing or Tech   \n",
      "27962  45-54                           Health care   \n",
      "27963  25-34  Government and Public Administration   \n",
      "27964  25-34                     Computing or Tech   \n",
      "27965  25-34                Business or Consulting   \n",
      "\n",
      "                                      Job title job Description  \\\n",
      "0            Research and Instruction Librarian             NaN   \n",
      "1      Change & Internal Communications Manager             NaN   \n",
      "2                          Marketing Specialist             NaN   \n",
      "3                               Program Manager             NaN   \n",
      "4                            Accounting Manager             NaN   \n",
      "...                                         ...             ...   \n",
      "27961                              Data Analyst             NaN   \n",
      "27962             Business Development Director             NaN   \n",
      "27963                          Business Analyst             NaN   \n",
      "27964                          Junior Developer             NaN   \n",
      "27965               Environmental Risk Assessor             NaN   \n",
      "\n",
      "       Annual_Salary  Monetary_Salary Currency Other_Currency         Country  \\\n",
      "0              55000                0      USD            NaN   United States   \n",
      "1              54600             4000      GBP            NaN  United Kingdom   \n",
      "2              34000                1      USD            NaN              US   \n",
      "3              62000             3000      USD            NaN             USA   \n",
      "4              60000             7000      USD            NaN              US   \n",
      "...              ...              ...      ...            ...             ...   \n",
      "27961          65000                0      USD            NaN   United States   \n",
      "27962         185000            22000  AUD/NZD            NaN       Australia   \n",
      "27963          90000                0      USD            NaN             USA   \n",
      "27964          22000                0      GBP            NaN  united kingdom   \n",
      "27965          80000                1      CAD            NaN          Canada   \n",
      "\n",
      "                State           city Professional Experience FieldExperience  \\\n",
      "0       Massachusetts         Boston               5-7 years       5-7 years   \n",
      "1                 NaN      Cambridge            8 - 10 years       5-7 years   \n",
      "2           Tennessee    Chattanooga             2 - 4 years     2 - 4 years   \n",
      "3           Wisconsin      Milwaukee            8 - 10 years       5-7 years   \n",
      "4      South Carolina     Greenville            8 - 10 years       5-7 years   \n",
      "...               ...            ...                     ...             ...   \n",
      "27961        New York          Bronx           21 - 30 years    8 - 10 years   \n",
      "27962             NaN        Sydney            21 - 30 years  1 year or less   \n",
      "27963        New York  New York City           11 - 20 years    8 - 10 years   \n",
      "27964             NaN    northampton          1 year or less  1 year or less   \n",
      "27965             NaN      Vancouver             2 - 4 years     2 - 4 years   \n",
      "\n",
      "             Education                         Gender  \\\n",
      "0      Master's degree                          Woman   \n",
      "1       College degree                     Non-binary   \n",
      "2       College degree                          Woman   \n",
      "3       College degree                          Woman   \n",
      "4       College degree                          Woman   \n",
      "...                ...                            ...   \n",
      "27961   College degree                            Man   \n",
      "27962   College degree  Other or prefer not to answer   \n",
      "27963  Master's degree                          Woman   \n",
      "27964  Master's degree                          Woman   \n",
      "27965  Master's degree                          Woman   \n",
      "\n",
      "                            Race  Total_Salary  \n",
      "0                          White         55000  \n",
      "1                          White         58600  \n",
      "2                          White         34001  \n",
      "3                          White         65000  \n",
      "4                          White         67000  \n",
      "...                          ...           ...  \n",
      "27961  Black or African American         65000  \n",
      "27962                      White        207000  \n",
      "27963    Asian or Asian American         90000  \n",
      "27964    Asian or Asian American         22000  \n",
      "27965                      White         80001  \n",
      "\n",
      "[27817 rows x 17 columns]\n"
     ]
    }
   ],
   "source": [
    "#addition of total Salary\n",
    "\n",
    "df['Total_Salary'] = df['Annual_Salary'] + df['Monetary_Salary']\n",
    "\n",
    "print(df)"
   ]
  },
  {
   "cell_type": "code",
   "execution_count": 8,
   "id": "cda63df8",
   "metadata": {},
   "outputs": [],
   "source": [
    "#replacing values \n",
    "\n",
    "df.replace(to_replace='65 or over', value='65-75', inplace=True)\n",
    "df.replace(to_replace='under 18', value='15-18', inplace=True)\n",
    "df.replace(to_replace='1 year or less',value='0-1',inplace=True)\n",
    "df.replace(to_replace=['Woman','Man'],value=['F','M'],inplace=True)\n",
    "df.replace(to_replace='41  or more', value='41-50', inplace=True)\n",
    "\n"
   ]
  },
  {
   "cell_type": "code",
   "execution_count": 9,
   "id": "8a6ea325",
   "metadata": {},
   "outputs": [],
   "source": [
    "#finding age by averaging the age\n",
    "\n",
    "df[['lower', 'upper']] = df['AGE'].str.split('-', expand=True)\n",
    "df['lower'] = df['lower'].astype(int)\n",
    "df['upper'] = df['upper'].astype(int)\n",
    "df['AGE'] = (df['lower'] + df['upper']) / 2\n",
    "\n",
    "\n",
    "\n"
   ]
  },
  {
   "cell_type": "code",
   "execution_count": 10,
   "id": "7c3873a8",
   "metadata": {},
   "outputs": [],
   "source": [
    "df['AGE']=df['AGE'].astype(int)"
   ]
  },
  {
   "cell_type": "code",
   "execution_count": 11,
   "id": "71d2d7a0",
   "metadata": {},
   "outputs": [],
   "source": [
    "#dropping unnessary columns\n",
    "\n",
    "df.drop(['lower','upper'], axis=1, inplace=True)"
   ]
  },
  {
   "cell_type": "code",
   "execution_count": 12,
   "id": "6a9a7ddb",
   "metadata": {},
   "outputs": [],
   "source": [
    "# replacing values\n",
    "\n",
    "df['Country'].replace(['USA', 'U.S.A.', 'US', 'na'], 'USA', inplace=True)"
   ]
  },
  {
   "cell_type": "code",
   "execution_count": 13,
   "id": "53b23aea",
   "metadata": {},
   "outputs": [
    {
     "name": "stdout",
     "output_type": "stream",
     "text": [
      "27817\n"
     ]
    }
   ],
   "source": [
    "row_count = len(df)\n",
    "print(row_count)"
   ]
  },
  {
   "cell_type": "code",
   "execution_count": 14,
   "id": "3fe3c45d",
   "metadata": {},
   "outputs": [],
   "source": [
    "df.to_csv('data.csv', index=False)\n",
    "\n"
   ]
  },
  {
   "cell_type": "code",
   "execution_count": null,
   "id": "0e124acc",
   "metadata": {},
   "outputs": [],
   "source": []
  },
  {
   "cell_type": "code",
   "execution_count": null,
   "id": "5c580e43",
   "metadata": {},
   "outputs": [],
   "source": []
  }
 ],
 "metadata": {
  "kernelspec": {
   "display_name": "Python 3 (ipykernel)",
   "language": "python",
   "name": "python3"
  },
  "language_info": {
   "codemirror_mode": {
    "name": "ipython",
    "version": 3
   },
   "file_extension": ".py",
   "mimetype": "text/x-python",
   "name": "python",
   "nbconvert_exporter": "python",
   "pygments_lexer": "ipython3",
   "version": "3.9.7"
  }
 },
 "nbformat": 4,
 "nbformat_minor": 5
}
